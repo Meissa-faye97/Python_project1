{
 "cells": [
  {
   "cell_type": "code",
   "execution_count": 1,
   "id": "accd9239",
   "metadata": {},
   "outputs": [
    {
     "name": "stdout",
     "output_type": "stream",
     "text": [
      "10\n"
     ]
    }
   ],
   "source": [
    "a=10\n",
    "print(a)"
   ]
  },
  {
   "cell_type": "raw",
   "id": "a2536d71",
   "metadata": {},
   "source": [
    "if logical_expression:\n",
    "    statement1\n",
    "    statement2\n",
    "    ...\n",
    "    staementn\n",
    "else\n",
    "    other_block_of_statements"
   ]
  },
  {
   "cell_type": "code",
   "execution_count": 3,
   "id": "aace0219",
   "metadata": {},
   "outputs": [],
   "source": [
    "if a<0:\n",
    "    print(a, \"is cool\")"
   ]
  },
  {
   "cell_type": "code",
   "execution_count": 5,
   "id": "7b136f34",
   "metadata": {},
   "outputs": [
    {
     "name": "stdout",
     "output_type": "stream",
     "text": [
      "10 is cool\n"
     ]
    }
   ],
   "source": [
    "if a>0:\n",
    "    print(a,\"is cool\")"
   ]
  },
  {
   "cell_type": "code",
   "execution_count": 8,
   "id": "870941d0",
   "metadata": {},
   "outputs": [
    {
     "name": "stdout",
     "output_type": "stream",
     "text": [
      "0 is cool\n"
     ]
    }
   ],
   "source": [
    "a= 0\n",
    "\n",
    "if a>0:\n",
    "    print(a,\"is not cool\")\n",
    "else:\n",
    "     print(a,\"is cool\")"
   ]
  },
  {
   "cell_type": "code",
   "execution_count": 9,
   "id": "f2507c4f",
   "metadata": {},
   "outputs": [
    {
     "name": "stdout",
     "output_type": "stream",
     "text": [
      "0 is really cool\n"
     ]
    }
   ],
   "source": [
    "a= 0\n",
    "\n",
    "if a>0:\n",
    "    print(a,\"is not cool\")\n",
    "elif a==0:\n",
    "    print(a,\"is really cool\")\n",
    "else:\n",
    "     print(a,\"is cool\")"
   ]
  },
  {
   "cell_type": "code",
   "execution_count": 17,
   "id": "520d7cb6",
   "metadata": {},
   "outputs": [
    {
     "name": "stdout",
     "output_type": "stream",
     "text": [
      "a is not greater than b\n"
     ]
    }
   ],
   "source": [
    "a= 0\n",
    "b=10\n",
    "\n",
    "if a>b:\n",
    "    print(a,\"is greater than b\")\n",
    "    if a-b>5:\n",
    "        print(\" The difference betwen a and b is greater than 5\")\n",
    "    else :\n",
    "        print(\" The difference betwen a and b is less than 5\")\n",
    "else:\n",
    "     print(\"a is not greater than b\")"
   ]
  },
  {
   "cell_type": "raw",
   "id": "0e9dafd0",
   "metadata": {},
   "source": [
    "initialize increment var\n",
    "while condition:\n",
    "    block of instructions\n",
    "    increment\n",
    "for element in seq of values:\n",
    "    block of instructions"
   ]
  },
  {
   "cell_type": "code",
   "execution_count": 29,
   "id": "a5ad1611",
   "metadata": {},
   "outputs": [
    {
     "name": "stdout",
     "output_type": "stream",
     "text": [
      "c\n",
      "y\n",
      "t\n"
     ]
    }
   ],
   "source": [
    "for char in ['htdjc', 'gsjy' , 'gxjydt']:\n",
    "     #print(char)\n",
    "        print(char[-1])"
   ]
  },
  {
   "cell_type": "code",
   "execution_count": 34,
   "id": "60f24ae4",
   "metadata": {},
   "outputs": [
    {
     "name": "stdout",
     "output_type": "stream",
     "text": [
      "1\n",
      "4\n",
      "9\n",
      "16\n",
      "25\n",
      "36\n",
      "49\n",
      "64\n",
      "81\n"
     ]
    }
   ],
   "source": [
    "cher =1\n",
    "while cher <10:\n",
    "    print(cher**2)\n",
    "    cher+= 1"
   ]
  },
  {
   "cell_type": "code",
   "execution_count": 36,
   "id": "f762a92a",
   "metadata": {},
   "outputs": [
    {
     "name": "stdout",
     "output_type": "stream",
     "text": [
      "1\n",
      "1\n",
      "=======\n",
      "2\n",
      "4\n",
      "=======\n",
      "3\n",
      "9\n",
      "=======\n",
      "4\n",
      "16\n",
      "=======\n",
      "5\n",
      "25\n",
      "=======\n",
      "6\n",
      "36\n",
      "=======\n",
      "7\n",
      "49\n",
      "=======\n",
      "8\n",
      "64\n",
      "=======\n",
      "9\n",
      "81\n",
      "=======\n"
     ]
    }
   ],
   "source": [
    "cher =1\n",
    "while cher <10:\n",
    "    print(cher)\n",
    "    print(cher**2)\n",
    "    print(\"=======\")\n",
    "    cher+= 1"
   ]
  },
  {
   "cell_type": "code",
   "execution_count": 40,
   "id": "7d75cbca",
   "metadata": {},
   "outputs": [
    {
     "data": {
      "text/plain": [
       "[6, 0, 4, 4]"
      ]
     },
     "execution_count": 40,
     "metadata": {},
     "output_type": "execute_result"
    }
   ],
   "source": [
    "even=[]\n",
    "list_number= [6,7,9,0,4,3,3,4,1,9,5]\n",
    "\n",
    "for i in list_number:\n",
    "    if i%2==0:\n",
    "        even.append(i)\n",
    "even"
   ]
  },
  {
   "cell_type": "code",
   "execution_count": 42,
   "id": "e048f421",
   "metadata": {},
   "outputs": [
    {
     "data": {
      "text/plain": [
       "14"
      ]
     },
     "execution_count": 42,
     "metadata": {},
     "output_type": "execute_result"
    }
   ],
   "source": [
    "even=[]\n",
    "list_number= [6,7,9,0,4,3,3,4,1,9,5]\n",
    "\n",
    "for i in list_number:\n",
    "    if i%2==0:\n",
    "        even.append(i)\n",
    "somm= sum(even)\n",
    "somm"
   ]
  },
  {
   "cell_type": "code",
   "execution_count": 52,
   "id": "91c340f7",
   "metadata": {},
   "outputs": [
    {
     "data": {
      "text/plain": [
       "51"
      ]
     },
     "execution_count": 52,
     "metadata": {},
     "output_type": "execute_result"
    }
   ],
   "source": [
    "somm=0\n",
    "#even=[]\n",
    "list_number= [6,7,9,0,4,3,3,4,1,9,5]\n",
    "\n",
    "for i in list_number:\n",
    "    if i not in even:\n",
    "        somm +=i\n",
    "somm"
   ]
  },
  {
   "cell_type": "code",
   "execution_count": 58,
   "id": "6b1ac1d3",
   "metadata": {},
   "outputs": [
    {
     "name": "stdout",
     "output_type": "stream",
     "text": [
      "The sum of the list of odd nuimber is 37\n"
     ]
    }
   ],
   "source": [
    "somm=0\n",
    "odd=[]\n",
    "list_number= [6,7,9,0,4,3,3,4,1,9,5]\n",
    "\n",
    "for i in list_number:\n",
    "    if i%2!=0:\n",
    "        odd.append(i)\n",
    "        somm +=i\n",
    "print('The sum of the list of odd nuimber is', somm)"
   ]
  },
  {
   "cell_type": "code",
   "execution_count": null,
   "id": "de146f72",
   "metadata": {},
   "outputs": [],
   "source": []
  }
 ],
 "metadata": {
  "kernelspec": {
   "display_name": "Python 3 (ipykernel)",
   "language": "python",
   "name": "python3"
  },
  "language_info": {
   "codemirror_mode": {
    "name": "ipython",
    "version": 3
   },
   "file_extension": ".py",
   "mimetype": "text/x-python",
   "name": "python",
   "nbconvert_exporter": "python",
   "pygments_lexer": "ipython3",
   "version": "3.10.12"
  }
 },
 "nbformat": 4,
 "nbformat_minor": 5
}
